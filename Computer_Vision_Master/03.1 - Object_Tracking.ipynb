{
 "cells": [
  {
   "cell_type": "code",
   "execution_count": 5,
   "id": "documentary-cambodia",
   "metadata": {},
   "outputs": [
    {
     "name": "stdout",
     "output_type": "stream",
     "text": [
      "03- Object_Tracking.ipynb     home_lbph_classifier.yml\r\n",
      "03.1 - Object_Tracking.ipynb  race.mp4\r\n",
      "2.1- Camera_LBPH.ipynb        street.mp4\r\n"
     ]
    }
   ],
   "source": [
    "ls"
   ]
  },
  {
   "cell_type": "code",
   "execution_count": 9,
   "id": "unique-husband",
   "metadata": {},
   "outputs": [],
   "source": [
    "import cv2\n",
    "\n",
    "tracker = cv2.TrackerKCF_create()\n",
    "\n",
    "cap = cv2.VideoCapture(\"race.mp4\")\n",
    "\n",
    "conn, frame = cap.read()\n",
    "\n",
    "# Seçtiğimiz alanın kordinatlarını verir\n",
    "\n",
    "bbox = cv2.selectROI(frame)\n",
    "#print(bbox)\n",
    "\n",
    "ok = tracker.init(frame,bbox)\n",
    "#print(ok)\n",
    "\n",
    "while True:\n",
    "    \n",
    "    conn, frame = cap.read()\n",
    "    \n",
    "    if not conn:\n",
    "        break\n",
    "        \n",
    "    conn, bbox = tracker.update(frame)\n",
    "    #print(bbox)\n",
    "    #print(conn)\n",
    "    \n",
    "    if conn:\n",
    "        \n",
    "        (x,y,w,h) = [int(v) for v in bbox]\n",
    "        cv2.rectangle(frame, (x,y),(x+w, y+h), (0,255,0),2,1)\n",
    "        \n",
    "    else:\n",
    "        \n",
    "        font = cv2.FONT_HERSHEY_COMPLEX_SMALL\n",
    "        cv2.putText(frame,\"Error\", (100,80),font,1,(0,0,255),2)\n",
    "        \n",
    "    \n",
    "    cv2.imshow(\"Tracking\",frame)\n",
    "    \n",
    "    k = cv2.waitKey(1) & 0xFF\n",
    "    if k == 27:\n",
    "        break\n",
    "        \n",
    "cap.release()\n",
    "cv2.destroyAllWindows()"
   ]
  },
  {
   "cell_type": "code",
   "execution_count": 8,
   "id": "adolescent-vegetarian",
   "metadata": {},
   "outputs": [],
   "source": [
    "import cv2\n",
    "\n",
    "tracker = cv2.TrackerCSRT_create()\n",
    "\n",
    "cap = cv2.VideoCapture(\"race.mp4\")\n",
    "\n",
    "conn,frame = cap.read()\n",
    "\n",
    "bbox = cv2.selectROI(frame)\n",
    "\n",
    "tracker.init(frame, bbox)\n",
    "\n",
    "while True:\n",
    "    \n",
    "    conn, frame = cap.read()\n",
    "    \n",
    "    \n",
    "    if not conn:\n",
    "        break\n",
    "        \n",
    "        \n",
    "    conn ,bbox = tracker.update(frame)\n",
    "    \n",
    "    if conn:\n",
    "        \n",
    "        (x,y,w,h) = [int(v) for v in bbox]\n",
    "        cv2.rectangle(frame,(x,y),(x+w,y+h),(0,255,0),2)\n",
    "        \n",
    "        \n",
    "    else:\n",
    "        \n",
    "        font = cv2.FONT_HERSHEY_COMPLEX_SMALL\n",
    "        cv2.putText(frame,\"ERROR\",(100,80),font,1,(0,0,255),2)\n",
    "        \n",
    "    cv2.imshow(\"Tracking\",frame)\n",
    "    \n",
    "    k = cv2.waitKey(1) & 0xFF\n",
    "    if k == 27:\n",
    "        break\n",
    "\n",
    "cap.release()\n",
    "cv2.destroyAllWindows()"
   ]
  },
  {
   "cell_type": "markdown",
   "id": "gothic-slovakia",
   "metadata": {},
   "source": [
    "## HomeWork"
   ]
  },
  {
   "cell_type": "code",
   "execution_count": 7,
   "id": "streaming-supervision",
   "metadata": {},
   "outputs": [],
   "source": [
    "#### TrackerCSRT_create() Doğru sonuç verir ama çok yavaştır!!!\n",
    "\n",
    "#tracker = cv2.TrackerCSRT_create()\n",
    "\n",
    "#### TrackerKCF_create() sonuçlar çok doğru olmayabilir seçtiğin alana göre ama hızlıdır !!!"
   ]
  },
  {
   "cell_type": "code",
   "execution_count": 10,
   "id": "alert-guide",
   "metadata": {},
   "outputs": [],
   "source": [
    "import cv2\n",
    "\n",
    "tracker = cv2.TrackerKCF_create()\n",
    "\n",
    "cap = cv2.VideoCapture(\"street.mp4\")\n",
    "\n",
    "conn, frame = cap.read()\n",
    "\n",
    "bbox = cv2.selectROI(frame)\n",
    "\n",
    "tracker.init(frame , bbox)\n",
    "\n",
    "while True:\n",
    "    \n",
    "    conn,frame = cap.read()\n",
    "    \n",
    "    if not conn:\n",
    "        break\n",
    "        \n",
    "    conn, bbox = tracker.update(frame)\n",
    "    \n",
    "    if conn:\n",
    "        \n",
    "        (x,y,w,h) = [int(v) for v in bbox]\n",
    "        cv2.rectangle(frame,(x,y), (x+w,y+h), (0,255,0),2)\n",
    "        \n",
    "    else:\n",
    "        \n",
    "        font = cv2.FONT_HERSHEY_COMPLEX\n",
    "        cv2.putText(frame,\"ERROR\",(100,80),font, 1,(0,0,255),2)\n",
    "\n",
    "    cv2.imshow(\"Tracking\",frame)\n",
    "    \n",
    "    k = cv2.waitKey(1) & 0xFF\n",
    "    if k == 27:\n",
    "        break\n",
    "        \n",
    "cap.release()\n",
    "cv2.destroyAllWindows()"
   ]
  },
  {
   "cell_type": "code",
   "execution_count": null,
   "id": "universal-flush",
   "metadata": {},
   "outputs": [],
   "source": []
  }
 ],
 "metadata": {
  "kernelspec": {
   "display_name": "Python 3",
   "language": "python",
   "name": "python3"
  },
  "language_info": {
   "codemirror_mode": {
    "name": "ipython",
    "version": 3
   },
   "file_extension": ".py",
   "mimetype": "text/x-python",
   "name": "python",
   "nbconvert_exporter": "python",
   "pygments_lexer": "ipython3",
   "version": "3.7.7"
  }
 },
 "nbformat": 4,
 "nbformat_minor": 5
}
