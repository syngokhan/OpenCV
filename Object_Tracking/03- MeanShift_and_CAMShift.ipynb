{
 "cells": [
  {
   "cell_type": "code",
   "execution_count": 1,
   "id": "minor-scenario",
   "metadata": {},
   "outputs": [],
   "source": [
    "#!pip install imutils"
   ]
  },
  {
   "cell_type": "code",
   "execution_count": 1,
   "id": "maritime-synthesis",
   "metadata": {},
   "outputs": [
    {
     "data": {
      "image/png": "[encoded data removed]",
      "text/plain": [
       "<Figure size 1800x720 with 4 Axes>"
      ]
     },
     "metadata": {
      "needs_background": "light"
     },
     "output_type": "display_data"
    },
    {
     "data": {
      "text/plain": [
       "(255.0, 0.0, 255.0, 0.0)"
      ]
     },
     "execution_count": 1,
     "metadata": {},
     "output_type": "execute_result"
    }
   ],
   "source": [
    "import time\n",
    "import cv2\n",
    "from imutils.video import VideoStream\n",
    "import matplotlib.pyplot as plt\n",
    "%matplotlib inline\n",
    "\n",
    "img = cv2.imread(\"Images/deneme.jpeg\")\n",
    "\n",
    "#bbox = cv2.selectROI(img)\n",
    "#print(bbox)\n",
    "\n",
    "x,y,w,h = (297, 158, 92, 153)\n",
    "\n",
    "roi = img[y:y+h,x:x+w]\n",
    "\n",
    "hsv_roi = cv2.cvtColor(roi, cv2.COLOR_BGR2HSV)\n",
    "\n",
    "roi_hist = cv2.calcHist([hsv_roi],[0],None,[180],[0,180])\n",
    "\n",
    "roi_normalize = cv2.normalize(roi_hist,roi_hist,0,255,cv2.NORM_MINMAX)\n",
    "\n",
    "plt.figure(figsize = (25,10))\n",
    "\n",
    "plt.subplot(221)\n",
    "plt.hist(roi.ravel(),180,[0,180])\n",
    "plt.title(\"ROI\")\n",
    "\n",
    "plt.subplot(222)\n",
    "plt.hist(hsv_roi.ravel(),180,[0,180])\n",
    "plt.title(\"HSV\")\n",
    "\n",
    "plt.subplot(223)\n",
    "plt.hist(roi_hist.ravel(),180,[0,180])\n",
    "plt.title(\"Roi Hist\")\n",
    "\n",
    "plt.subplot(224)\n",
    "plt.hist(roi_normalize.ravel(),180,[0,180])\n",
    "plt.title(\"Roi Normalize Hist\")\n",
    "\n",
    "plt.show()\n",
    "\n",
    "roi_normalize.max(),roi_normalize.min(),roi_hist.max(),roi_hist.min()"
   ]
  },
  {
   "cell_type": "code",
   "execution_count": null,
   "id": "broadband-community",
   "metadata": {},
   "outputs": [],
   "source": []
  },
  {
   "cell_type": "code",
   "execution_count": 33,
   "id": "amber-trail",
   "metadata": {},
   "outputs": [
    {
     "name": "stdout",
     "output_type": "stream",
     "text": [
      "(936, 284, 71, 170)\n"
     ]
    }
   ],
   "source": [
    "import time\n",
    "import cv2\n",
    "from imutils.video import VideoStream\n",
    "import matplotlib.pyplot as plt\n",
    "%matplotlib inline\n",
    "\n",
    "############################\n",
    "\n",
    "# Mean Shift\n",
    "\n",
    "############################\n",
    "\n",
    "cap = VideoStream(src = 0).start()\n",
    "time.sleep(1.0)\n",
    "\n",
    "cap = cv2.VideoCapture(0)\n",
    "conn, frame = cap.read()\n",
    "\n",
    "bbox = cv2.selectROI(frame)\n",
    "x,y,w,h = bbox\n",
    "track_window = (x,y,w,h)\n",
    "print(track_window)\n",
    "\n",
    "roi = frame[y:y+h,x:x+w] # RGB -> BGR\n",
    "#cv2.imshow(\"ROI\",roi)\n",
    "#cv2.waitKey(0)\n",
    "\n",
    "# HSV\n",
    "hsv_roi = cv2.cvtColor(roi, cv2.COLOR_BGR2HSV)\n",
    "\n",
    "#cv2.imshow(\"ROI HSV\",hsv_roi)\n",
    "#cv2.waitKey(0)\n",
    "\n",
    "roi_hist = cv2.calcHist([hsv_roi],[0],None,[180],[0,180])\n",
    "\n",
    "# 0 - 255 \n",
    "roi_normalize = cv2.normalize(roi_hist, roi_hist, 0, 255, cv2.NORM_MINMAX)\n",
    "\n",
    "parameters = (cv2.TERM_CRITERIA_EPS | cv2.TERM_CRITERIA_COUNT , 10, 1)\n",
    "\n",
    "while True:\n",
    "    \n",
    "    conn, frame = cap.read()\n",
    "\n",
    "    if conn == True:\n",
    "        \n",
    "        hsv = cv2.cvtColor(frame, cv2.COLOR_BGR2HSV)\n",
    "        \n",
    "        dst = cv2.calcBackProject([hsv],[0],roi_normalize, [0,180], 1)\n",
    "        \n",
    "        ok,track_window = cv2.meanShift(dst,(x,y,w,h),parameters )\n",
    "        \n",
    "        x,y,w,h = track_window\n",
    "        \n",
    "        cv2.rectangle(frame, (x, y), (x+w, y+h), (0,255,0), 2)\n",
    "        \n",
    "        cv2.imshow(\"MeanShift Tracking\", frame)\n",
    "        cv2.imshow(\"dst\",dst)\n",
    "        \n",
    "        if cv2.waitKey(1) & 0xFF == 27:\n",
    "            break\n",
    "    \n",
    "    else:\n",
    "        \n",
    "        break\n",
    "        \n",
    "cv2.destroyAllWindows()\n",
    "cap.release()"
   ]
  },
  {
   "cell_type": "code",
   "execution_count": null,
   "id": "permanent-belle",
   "metadata": {},
   "outputs": [],
   "source": []
  },
  {
   "cell_type": "code",
   "execution_count": null,
   "id": "coral-registrar",
   "metadata": {},
   "outputs": [],
   "source": [
    "############################\n",
    "\n",
    "# CAMShift\n",
    "\n",
    "############################\n",
    "\n",
    "import cv2\n",
    "import numpy as np\n",
    "from imutils.video import VideoStream\n",
    "import time\n",
    "\n",
    "cap = VideoStream(src = 0).start()\n",
    "time.sleep(1)\n",
    "\n",
    "cap = cv2.VideoCapture(0)\n",
    "conn,frame = cap.read()\n",
    "bbox = cv2.selectROI(frame)\n",
    "x,y,w,h = bbox\n",
    "track_window = (x,y,w,h)\n",
    "roi = frame[y:y+h,w:w+h]\n",
    "hsv_roi = cv2.cvtColor(roi,cv2.COLOR_BGR2HSV)\n",
    "roi_hist = cv2.calcHist([hsv_roi],[0],None,[180],[0,180])\n",
    "roi_normalize = cv2.normalize(roi_hist,roi_hist,0,255,cv2.NORM_MINMAX)\n",
    "parameters = (cv2.TERM_CRITERIA_EPS | cv2.TERM_CRITERIA_COUNT,10,1)\n",
    "\n",
    "while True:\n",
    "    \n",
    "    conn, frame = cap.read()\n",
    "    \n",
    "    if conn:\n",
    "        \n",
    "        hsv = cv2.cvtColor(frame,cv2.COLOR_BGR2HSV)\n",
    "        dst = cv2.calcBackProject([hsv],[0],roi_normalize,[0,180],1)\n",
    "        \n",
    "        ok,track_window = cv2.CamShift(dst,(x,y,w,h),parameters)\n",
    "        \n",
    "        pts = cv2.boxPoints(ok)\n",
    "        pts = np.int0(pts)\n",
    "        print(type(pts),pts.shape)\n",
    "        print()\n",
    "        print(pts)\n",
    "        \n",
    "        img2 = cv2.polylines(frame,[pts],True,255,2)\n",
    "        \n",
    "        cv2.imshow(\"CamShift Tracking \", frame)\n",
    "        \n",
    "        if cv2.waitKey(1) & 0xff == 27:\n",
    "            break\n",
    "            \n",
    "    else:\n",
    "        break\n",
    "\n",
    "cap.release()\n",
    "cv2.destroyAllWindows()"
   ]
  },
  {
   "cell_type": "code",
   "execution_count": null,
   "id": "regulated-focus",
   "metadata": {},
   "outputs": [],
   "source": []
  },
  {
   "cell_type": "code",
   "execution_count": null,
   "id": "reasonable-decision",
   "metadata": {},
   "outputs": [],
   "source": []
  }
 ],
 "metadata": {
  "kernelspec": {
   "display_name": "Python 3",
   "language": "python",
   "name": "python3"
  },
  "language_info": {
   "codemirror_mode": {
    "name": "ipython",
    "version": 3
   },
   "file_extension": ".py",
   "mimetype": "text/x-python",
   "name": "python",
   "nbconvert_exporter": "python",
   "pygments_lexer": "ipython3",
   "version": "3.7.7"
  }
 },
 "nbformat": 4,
 "nbformat_minor": 5
}
