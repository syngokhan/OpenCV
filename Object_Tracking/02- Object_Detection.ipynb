{
 "cells": [
  {
   "cell_type": "code",
   "execution_count": 1,
   "id": "olive-spokesman",
   "metadata": {},
   "outputs": [],
   "source": [
    "import cv2\n",
    "import numpy as np\n",
    "import sys\n",
    "import os"
   ]
  },
  {
   "cell_type": "code",
   "execution_count": 2,
   "id": "common-battle",
   "metadata": {},
   "outputs": [
    {
     "data": {
      "text/plain": [
       "(numpy.ndarray, (294, 626, 3))"
      ]
     },
     "execution_count": 2,
     "metadata": {},
     "output_type": "execute_result"
    }
   ],
   "source": [
    "image = cv2.imread(\"Images/people.jpg\")\n",
    "type(image),image.shape"
   ]
  },
  {
   "cell_type": "code",
   "execution_count": 3,
   "id": "numeric-shore",
   "metadata": {},
   "outputs": [
    {
     "data": {
      "text/plain": [
       "(numpy.ndarray, (294, 626))"
      ]
     },
     "execution_count": 3,
     "metadata": {},
     "output_type": "execute_result"
    }
   ],
   "source": [
    "detector = cv2.CascadeClassifier(\"cascade/fullbody.xml\")\n",
    "\n",
    "gray_img = cv2.cvtColor(image, cv2.COLOR_BGR2GRAY)\n",
    "type(gray_img),gray_img.shape"
   ]
  },
  {
   "cell_type": "code",
   "execution_count": null,
   "id": "decimal-married",
   "metadata": {},
   "outputs": [],
   "source": [
    "cv2.imshow(\"People\", gray_img)\n",
    "cv2.waitKey(0)\n",
    "cv2.destroyAllWindows()"
   ]
  },
  {
   "cell_type": "code",
   "execution_count": 5,
   "id": "rising-apple",
   "metadata": {},
   "outputs": [
    {
     "name": "stdout",
     "output_type": "stream",
     "text": [
      "[[461  60  92 184]\n",
      " [195  47  96 192]\n",
      " [ 70  57  95 189]\n",
      " [266  80  75 151]\n",
      " [ 12  66  90 180]\n",
      " [327  69  84 169]\n",
      " [144 100  71 142]\n",
      " [536 124  56 112]\n",
      " [431 168  32  64]]\n"
     ]
    }
   ],
   "source": [
    "detections = detector.detectMultiScale(gray_img)\n",
    "print(detections)"
   ]
  },
  {
   "cell_type": "code",
   "execution_count": 6,
   "id": "square-tunnel",
   "metadata": {},
   "outputs": [
    {
     "data": {
      "text/plain": [
       "9"
      ]
     },
     "execution_count": 6,
     "metadata": {},
     "output_type": "execute_result"
    }
   ],
   "source": [
    "len(detections)"
   ]
  },
  {
   "cell_type": "code",
   "execution_count": 7,
   "id": "determined-warren",
   "metadata": {},
   "outputs": [],
   "source": [
    "for (x,y,w,h) in detections:\n",
    "    \n",
    "    cv2.rectangle(image , (x,y),(x+w,y+h),(0,255,0),2)"
   ]
  },
  {
   "cell_type": "code",
   "execution_count": null,
   "id": "japanese-simulation",
   "metadata": {},
   "outputs": [],
   "source": [
    "cv2.imshow(\"Detections\", image)\n",
    "cv2.waitKey(0)\n",
    "cv2.destroyAllWindows()"
   ]
  },
  {
   "cell_type": "markdown",
   "id": "varying-basket",
   "metadata": {},
   "source": [
    "## "
   ]
  },
  {
   "cell_type": "code",
   "execution_count": 1,
   "id": "developing-retention",
   "metadata": {},
   "outputs": [
    {
     "name": "stdout",
     "output_type": "stream",
     "text": [
      "(622, 231, 71, 101)\n"
     ]
    }
   ],
   "source": [
    "import cv2\n",
    "import numpy as np\n",
    "import sys\n",
    "import os\n",
    "\n",
    "tracker = cv2.legacy.TrackerCSRT_create()\n",
    "\n",
    "cap = cv2.VideoCapture(\"Videos/walking.avi\")\n",
    "\n",
    "if not cap.isOpened():\n",
    "    print(\"Error While Loading The Video !\")\n",
    "    sys.exit()\n",
    "    \n",
    "conn, frame = cap.read()\n",
    "\n",
    "if not conn:\n",
    "    \n",
    "    print(\"Error While Loading The Frame !\")\n",
    "    sys.exit()\n",
    "    \n",
    "cascade_detector = cv2.CascadeClassifier(\"cascade/fullbody.xml\")\n",
    "\n",
    "def detect():\n",
    "    \n",
    "    while True:\n",
    "        \n",
    "        conn, frame = cap.read()\n",
    "        frame_gray = cv2.cvtColor(frame, cv2.COLOR_BGR2GRAY)  \n",
    "        detections = cascade_detector.detectMultiScale(frame_gray,minSize=(60,60))\n",
    "        \n",
    "        for (x,y,w,h) in detections:\n",
    "            \n",
    "            cv2.rectangle(frame, (x,y), (x+w,y+h),(0,0,255),2)\n",
    "            cv2.imshow(\"Detect\", frame)\n",
    "            #cv2.waitKey(0)\n",
    "            #cv2.destroyAllWindows()\n",
    "            if x > 0:\n",
    "                print(\"Haarscade Detection\")\n",
    "                return x,y,w,h\n",
    "                \n",
    "# Press Space !!!\n",
    "#bbox = detect()\n",
    "bbox = cv2.selectROI(frame)\n",
    "print(bbox)       \n",
    "\n",
    "tracker.init(frame,bbox)\n",
    "colors = ( np.random.randint(0,255),np.random.randint(0,255),np.random.randint(0,255))\n",
    "\n",
    "while True:\n",
    "    \n",
    "    conn, frame = cap.read()\n",
    "    \n",
    "    if not conn:\n",
    "        break\n",
    "        \n",
    "    ok, bbox = tracker.update(frame)\n",
    "    \n",
    "    if ok:\n",
    "        \n",
    "        (x,y,w,h) = [int(v) for v in bbox]\n",
    "        cv2.rectangle(frame, (x,y), (x+w,y+h),colors,2)\n",
    "        \n",
    "    else:\n",
    "        \n",
    "        print(\"Tracking Failure ! We will execute the haarcascade detector\")\n",
    "        bbox = detect()\n",
    "        tracker = cv2.legacy.TrackerMOSSE_create()\n",
    "        tracker.init(frame,bbox)\n",
    "        \n",
    "    cv2.imshow(\"Tracking\",frame)\n",
    "    k = cv2.waitKey(1) & 0xFF \n",
    "    if k == 27:\n",
    "        break\n",
    "\n",
    "cv2.destroyAllWindows()\n",
    "cap.release()"
   ]
  },
  {
   "cell_type": "code",
   "execution_count": null,
   "id": "dried-actress",
   "metadata": {},
   "outputs": [],
   "source": []
  }
 ],
 "metadata": {
  "kernelspec": {
   "display_name": "Python 3",
   "language": "python",
   "name": "python3"
  },
  "language_info": {
   "codemirror_mode": {
    "name": "ipython",
    "version": 3
   },
   "file_extension": ".py",
   "mimetype": "text/x-python",
   "name": "python",
   "nbconvert_exporter": "python",
   "pygments_lexer": "ipython3",
   "version": "3.7.7"
  }
 },
 "nbformat": 4,
 "nbformat_minor": 5
}
