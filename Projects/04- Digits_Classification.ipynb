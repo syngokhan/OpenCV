{
 "cells": [
  {
   "cell_type": "code",
   "execution_count": 1,
   "metadata": {
    "colab": {
     "base_uri": "https://localhost:8080/"
    },
    "executionInfo": {
     "elapsed": 4418,
     "status": "ok",
     "timestamp": 1644949049910,
     "user": {
      "displayName": "gokhan ersoz",
      "photoUrl": "https://lh3.googleusercontent.com/a/default-user=s64",
      "userId": "13455147674345597309"
     },
     "user_tz": -180
    },
    "id": "KqH1D4HsPZNh",
    "outputId": "7ed93310-f39b-427f-b84c-1b6b197a7f6d"
   },
   "outputs": [],
   "source": [
    "import pandas as pd\n",
    "import numpy as np\n",
    "import cv2\n",
    "import os\n",
    "import pickle\n",
    "import zipfile\n",
    "from sklearn.model_selection import train_test_split\n",
    "import matplotlib.pyplot as plt\n",
    "%matplotlib inline\n",
    "\n",
    "from tensorflow.keras.models import Sequential\n",
    "from tensorflow.keras.preprocessing.image import ImageDataGenerator\n",
    "from tensorflow.keras.preprocessing.sequence import pad_sequences\n",
    "from tensorflow.keras.preprocessing.text import Tokenizer\n",
    "from tensorflow.keras.layers import Dense,Dropout,Flatten,Conv2D,MaxPooling2D\n",
    "from tensorflow.keras.optimizers import Adam\n",
    "from tensorflow.keras.utils import to_categorical"
   ]
  },
  {
   "cell_type": "code",
   "execution_count": null,
   "metadata": {},
   "outputs": [],
   "source": [
    "from google.colab import drive\n",
    "drive.mount(\"/content/drive\")"
   ]
  },
  {
   "cell_type": "code",
   "execution_count": 2,
   "metadata": {
    "executionInfo": {
     "elapsed": 3274,
     "status": "ok",
     "timestamp": 1644949053180,
     "user": {
      "displayName": "gokhan ersoz",
      "photoUrl": "https://lh3.googleusercontent.com/a/default-user=s64",
      "userId": "13455147674345597309"
     },
     "user_tz": -180
    },
    "id": "GNc9khKseeez"
   },
   "outputs": [],
   "source": [
    "zip_file = zipfile.ZipFile(\"/content/drive/MyDrive/OpenCV_Projects/myData_Number.zip\",\"r\")\n",
    "zip_file.extractall()\n",
    "zip_file.close()"
   ]
  },
  {
   "cell_type": "code",
   "execution_count": 3,
   "metadata": {
    "executionInfo": {
     "elapsed": 5,
     "status": "ok",
     "timestamp": 1644949053181,
     "user": {
      "displayName": "gokhan ersoz",
      "photoUrl": "https://lh3.googleusercontent.com/a/default-user=s64",
      "userId": "13455147674345597309"
     },
     "user_tz": -180
    },
    "id": "4jeeHN30fB87"
   },
   "outputs": [],
   "source": [
    "path = \"/content/myData\"\n",
    "testRatio = 0.2\n",
    "valRatio = 0.2\n",
    "imageDimensions = (32,32,3)\n",
    "batchSizeVal = 50\n",
    "epochsVal = 15\n",
    "stepsPerEpochVal = 100"
   ]
  },
  {
   "cell_type": "code",
   "execution_count": 4,
   "metadata": {
    "colab": {
     "base_uri": "https://localhost:8080/"
    },
    "executionInfo": {
     "elapsed": 3618,
     "status": "ok",
     "timestamp": 1644949056795,
     "user": {
      "displayName": "gokhan ersoz",
      "photoUrl": "https://lh3.googleusercontent.com/a/default-user=s64",
      "userId": "13455147674345597309"
     },
     "user_tz": -180
    },
    "id": "5WOaqsBkfRkU",
    "outputId": "310487f6-c0a8-4119-9fc1-71010b4a2f95"
   },
   "outputs": [
    {
     "name": "stdout",
     "output_type": "stream",
     "text": [
      "Total Classes Detected :  10\n",
      "Importing Classes ......\n",
      "0 1 2 3 4 5 6 7 8 9 \n",
      "Total Images in Images List =  10160\n",
      "Total IDS in classNo List=  10160\n"
     ]
    }
   ],
   "source": [
    "count = 0\n",
    "images = []\n",
    "classNo = []\n",
    "mylist = os.listdir(path)\n",
    "print(\"Total Classes Detected : \", len(mylist))\n",
    "noOfclasses = len(mylist)\n",
    "print(\"Importing Classes ......\")\n",
    "for x in range(0, noOfclasses):\n",
    "    myPicList = os.listdir(path + \"/\" + str(x))\n",
    "    for y in myPicList:\n",
    "        curImg = cv2.imread(path + \"/\" + str(x) + \"/\" + y)\n",
    "        curImg = cv2.resize(curImg, (32,32))\n",
    "        images.append(curImg)\n",
    "        classNo.append(x)\n",
    "    print(x,end = \" \")\n",
    "\n",
    "print()\n",
    "print(\"Total Images in Images List = \",len(images))\n",
    "print(\"Total IDS in classNo List= \",len(classNo))"
   ]
  },
  {
   "cell_type": "code",
   "execution_count": 5,
   "metadata": {
    "colab": {
     "base_uri": "https://localhost:8080/"
    },
    "executionInfo": {
     "elapsed": 25,
     "status": "ok",
     "timestamp": 1644949056796,
     "user": {
      "displayName": "gokhan ersoz",
      "photoUrl": "https://lh3.googleusercontent.com/a/default-user=s64",
      "userId": "13455147674345597309"
     },
     "user_tz": -180
    },
    "id": "lUrd_g8zgIVJ",
    "outputId": "7d321a8c-84da-4c75-f358-0248d3cead31"
   },
   "outputs": [
    {
     "name": "stdout",
     "output_type": "stream",
     "text": [
      "(10160, 32, 32, 3) (10160,)\n"
     ]
    }
   ],
   "source": [
    "images = np.array(images)\n",
    "classNo = np.array(classNo)\n",
    "print(images.shape,classNo.shape)"
   ]
  },
  {
   "cell_type": "code",
   "execution_count": 6,
   "metadata": {
    "colab": {
     "base_uri": "https://localhost:8080/"
    },
    "executionInfo": {
     "elapsed": 21,
     "status": "ok",
     "timestamp": 1644949056796,
     "user": {
      "displayName": "gokhan ersoz",
      "photoUrl": "https://lh3.googleusercontent.com/a/default-user=s64",
      "userId": "13455147674345597309"
     },
     "user_tz": -180
    },
    "id": "R5lm9z4_gIjD",
    "outputId": "67d918fc-4b07-447c-b6e3-ac6ba759ac40"
   },
   "outputs": [
    {
     "name": "stdout",
     "output_type": "stream",
     "text": [
      "(6502, 32, 32, 3) (6502,)\n",
      "(2032, 32, 32, 3) (2032,)\n",
      "(1626, 32, 32, 3) (1626,)\n"
     ]
    }
   ],
   "source": [
    "X_train,X_test,y_train,y_test = train_test_split(images,classNo,test_size = testRatio)\n",
    "X_train,X_validation,y_train,y_validation = train_test_split(X_train,y_train,test_size = testRatio)\n",
    "\n",
    "print(X_train.shape,y_train.shape)\n",
    "print(X_test.shape,y_test.shape)\n",
    "print(X_validation.shape,y_validation.shape)"
   ]
  },
  {
   "cell_type": "code",
   "execution_count": 7,
   "metadata": {
    "colab": {
     "base_uri": "https://localhost:8080/"
    },
    "executionInfo": {
     "elapsed": 20,
     "status": "ok",
     "timestamp": 1644949056797,
     "user": {
      "displayName": "gokhan ersoz",
      "photoUrl": "https://lh3.googleusercontent.com/a/default-user=s64",
      "userId": "13455147674345597309"
     },
     "user_tz": -180
    },
    "id": "O4Sxo-6VgvCH",
    "outputId": "44fdef54-a113-413d-a4e9-682b83dd26b8"
   },
   "outputs": [
    {
     "name": "stdout",
     "output_type": "stream",
     "text": [
      "[645, 645, 645, 645, 645, 645, 645, 645, 645, 645]\n"
     ]
    }
   ],
   "source": [
    "numOfSamples = []\n",
    "for x in range(0,noOfclasses):\n",
    "    numOfSamples.append(len(np.where(y_train == 0)[0]))\n",
    "print(numOfSamples)"
   ]
  },
  {
   "cell_type": "code",
   "execution_count": 8,
   "metadata": {
    "colab": {
     "base_uri": "https://localhost:8080/",
     "height": 357
    },
    "executionInfo": {
     "elapsed": 541,
     "status": "ok",
     "timestamp": 1644949057320,
     "user": {
      "displayName": "gokhan ersoz",
      "photoUrl": "https://lh3.googleusercontent.com/a/default-user=s64",
      "userId": "13455147674345597309"
     },
     "user_tz": -180
    },
    "id": "nXtTo64AglQW",
    "outputId": "e8c161a6-e056-46f1-f8b6-4a5a5819a37d"
   },
   "outputs": [
    {
     "data": {
      "image/png": "[encoded data removed]",
      "text/plain": [
       "<Figure size 720x360 with 1 Axes>"
      ]
     },
     "metadata": {
      "needs_background": "light"
     },
     "output_type": "display_data"
    }
   ],
   "source": [
    "plt.figure(figsize=(10,5))\n",
    "plt.bar(range(0,noOfclasses),numOfSamples)\n",
    "plt.title(\"No of Images for each Class\",fontsize = 15)\n",
    "plt.xlabel(\"Class ID\",fontsize = 15)\n",
    "plt.ylabel(\"Number of Images\",fontsize = 15)\n",
    "plt.show()"
   ]
  },
  {
   "cell_type": "code",
   "execution_count": 9,
   "metadata": {
    "executionInfo": {
     "elapsed": 5,
     "status": "ok",
     "timestamp": 1644949057321,
     "user": {
      "displayName": "gokhan ersoz",
      "photoUrl": "https://lh3.googleusercontent.com/a/default-user=s64",
      "userId": "13455147674345597309"
     },
     "user_tz": -180
    },
    "id": "PeoGyFfWg9wD"
   },
   "outputs": [],
   "source": [
    "def preprocessing(image):\n",
    "    img = cv2.cvtColor(image, cv2.COLOR_BGR2GRAY)\n",
    "    img = cv2.equalizeHist(img)\n",
    "    img = img / 255\n",
    "    return img\n",
    "\n",
    "def display_img(image):\n",
    "\n",
    "    plt.figure(figsize = (7,7))\n",
    "    plt.imshow(image,cmap = \"gray\")\n",
    "    plt.title(f\"Shape : {image.shape}\")\n",
    "    plt.show()"
   ]
  },
  {
   "cell_type": "code",
   "execution_count": 10,
   "metadata": {
    "colab": {
     "base_uri": "https://localhost:8080/",
     "height": 444
    },
    "executionInfo": {
     "elapsed": 336,
     "status": "ok",
     "timestamp": 1644949057653,
     "user": {
      "displayName": "gokhan ersoz",
      "photoUrl": "https://lh3.googleusercontent.com/a/default-user=s64",
      "userId": "13455147674345597309"
     },
     "user_tz": -180
    },
    "id": "A8G5e4q9hK4h",
    "outputId": "9e0a1354-5de8-4f2e-b975-910073294797"
   },
   "outputs": [
    {
     "data": {
      "image/png": "[encoded data removed]",
      "text/plain": [
       "<Figure size 504x504 with 1 Axes>"
      ]
     },
     "metadata": {
      "needs_background": "light"
     },
     "output_type": "display_data"
    }
   ],
   "source": [
    "test_img = preprocessing(X_train[30])\n",
    "test_img = cv2.resize(test_img,(32,32))\n",
    "\n",
    "display_img(test_img)"
   ]
  },
  {
   "cell_type": "code",
   "execution_count": 11,
   "metadata": {
    "colab": {
     "base_uri": "https://localhost:8080/"
    },
    "executionInfo": {
     "elapsed": 6,
     "status": "ok",
     "timestamp": 1644949057654,
     "user": {
      "displayName": "gokhan ersoz",
      "photoUrl": "https://lh3.googleusercontent.com/a/default-user=s64",
      "userId": "13455147674345597309"
     },
     "user_tz": -180
    },
    "id": "fPp8oeLrhdrO",
    "outputId": "c13b0c49-4a46-470e-e4da-0c1371f588c9"
   },
   "outputs": [
    {
     "name": "stdout",
     "output_type": "stream",
     "text": [
      "(6502, 32, 32) (6502,)\n",
      "(2032, 32, 32) (2032,)\n",
      "(1626, 32, 32) (1626,)\n"
     ]
    }
   ],
   "source": [
    "X_train = np.array(list(map(preprocessing,X_train)))\n",
    "X_test = np.array(list(map(preprocessing,X_test)))\n",
    "X_validation = np.array(list(map(preprocessing,X_validation)))\n",
    "\n",
    "print(X_train.shape,y_train.shape)\n",
    "print(X_test.shape,y_test.shape)\n",
    "print(X_validation.shape,y_validation.shape)"
   ]
  },
  {
   "cell_type": "code",
   "execution_count": 12,
   "metadata": {
    "colab": {
     "base_uri": "https://localhost:8080/"
    },
    "executionInfo": {
     "elapsed": 4,
     "status": "ok",
     "timestamp": 1644949057654,
     "user": {
      "displayName": "gokhan ersoz",
      "photoUrl": "https://lh3.googleusercontent.com/a/default-user=s64",
      "userId": "13455147674345597309"
     },
     "user_tz": -180
    },
    "id": "WMrS68VmiLDH",
    "outputId": "1f7e5cd1-ba26-43af-adf1-28c4977791eb"
   },
   "outputs": [
    {
     "name": "stdout",
     "output_type": "stream",
     "text": [
      "(6502, 32, 32, 1) (6502,)\n",
      "(2032, 32, 32, 1) (2032,)\n",
      "(1626, 32, 32, 1) (1626,)\n"
     ]
    }
   ],
   "source": [
    "X_train = X_train.reshape(X_train.shape[0],X_train.shape[1],X_train.shape[2],1)\n",
    "X_test = X_test.reshape(X_test.shape[0],X_test.shape[1],X_test.shape[2],1)\n",
    "X_validation = X_validation.reshape(X_validation.shape[0],X_validation.shape[1],X_validation.shape[2],1)\n",
    "\n",
    "print(X_train.shape,y_train.shape)\n",
    "print(X_test.shape,y_test.shape)\n",
    "print(X_validation.shape,y_validation.shape)"
   ]
  },
  {
   "cell_type": "code",
   "execution_count": 13,
   "metadata": {
    "executionInfo": {
     "elapsed": 293,
     "status": "ok",
     "timestamp": 1644949057944,
     "user": {
      "displayName": "gokhan ersoz",
      "photoUrl": "https://lh3.googleusercontent.com/a/default-user=s64",
      "userId": "13455147674345597309"
     },
     "user_tz": -180
    },
    "id": "6csKxYy4iOPo"
   },
   "outputs": [],
   "source": [
    "dataGen = ImageDataGenerator(width_shift_range = 0.1,\n",
    "                             height_shift_range = 0.1,\n",
    "                             zoom_range = 0.2,\n",
    "                             shear_range = 0.1,\n",
    "                             rotation_range = 10)\n",
    "dataGen.fit(X_train)"
   ]
  },
  {
   "cell_type": "code",
   "execution_count": 14,
   "metadata": {
    "colab": {
     "base_uri": "https://localhost:8080/"
    },
    "executionInfo": {
     "elapsed": 4,
     "status": "ok",
     "timestamp": 1644949057944,
     "user": {
      "displayName": "gokhan ersoz",
      "photoUrl": "https://lh3.googleusercontent.com/a/default-user=s64",
      "userId": "13455147674345597309"
     },
     "user_tz": -180
    },
    "id": "faL4pop5ia5M",
    "outputId": "b74fba10-9248-483f-8b95-442a06b05006"
   },
   "outputs": [
    {
     "name": "stdout",
     "output_type": "stream",
     "text": [
      "(20, 32, 32, 1) (20,)\n"
     ]
    }
   ],
   "source": [
    "batches = dataGen.flow(X_train,y_train,batch_size = 20)\n",
    "X_batches,y_batches = next(batches)\n",
    "\n",
    "print(X_batches.shape,y_batches.shape)"
   ]
  },
  {
   "cell_type": "code",
   "execution_count": 15,
   "metadata": {
    "colab": {
     "base_uri": "https://localhost:8080/"
    },
    "executionInfo": {
     "elapsed": 3,
     "status": "ok",
     "timestamp": 1644949057944,
     "user": {
      "displayName": "gokhan ersoz",
      "photoUrl": "https://lh3.googleusercontent.com/a/default-user=s64",
      "userId": "13455147674345597309"
     },
     "user_tz": -180
    },
    "id": "F61CVFiajAfI",
    "outputId": "4e19c03f-a8ee-4a43-ab05-e69d90465cf6"
   },
   "outputs": [
    {
     "name": "stdout",
     "output_type": "stream",
     "text": [
      "(6502, 32, 32, 1) (6502, 10)\n",
      "(2032, 32, 32, 1) (2032, 10)\n",
      "(1626, 32, 32, 1) (1626, 10)\n"
     ]
    }
   ],
   "source": [
    "y_train = to_categorical(y_train, noOfclasses)\n",
    "y_test = to_categorical(y_test, noOfclasses)\n",
    "y_validation = to_categorical(y_validation, noOfclasses)\n",
    "\n",
    "print(X_train.shape,y_train.shape)\n",
    "print(X_test.shape,y_test.shape)\n",
    "print(X_validation.shape,y_validation.shape)"
   ]
  },
  {
   "cell_type": "code",
   "execution_count": 16,
   "metadata": {
    "executionInfo": {
     "elapsed": 3,
     "status": "ok",
     "timestamp": 1644949057945,
     "user": {
      "displayName": "gokhan ersoz",
      "photoUrl": "https://lh3.googleusercontent.com/a/default-user=s64",
      "userId": "13455147674345597309"
     },
     "user_tz": -180
    },
    "id": "5Sq5zAADjUYD"
   },
   "outputs": [],
   "source": [
    "def myModel():\n",
    "\n",
    "    noOfFilters = 60\n",
    "    sizeOfFilter5 = (5,5)\n",
    "    sizeOfFilter3 = (3,3)\n",
    "    sizeOfPool = (2,2)\n",
    "    noOfNodes = 500\n",
    "\n",
    "    model = Sequential()\n",
    "    model.add(Conv2D(filters = noOfFilters, kernel_size = sizeOfFilter5,input_shape = (imageDimensions[0],imageDimensions[1],1),\n",
    "                     activation = \"relu\"))\n",
    "    model.add(Conv2D(filters = noOfFilters, kernel_size = sizeOfFilter5,activation = \"relu\"))\n",
    "    model.add(MaxPooling2D(pool_size = sizeOfPool ))\n",
    "    \n",
    "    model.add(Conv2D(filters = noOfFilters // 2, kernel_size = sizeOfFilter3,activation = \"relu\"))\n",
    "    model.add(Conv2D(filters = noOfFilters // 2, kernel_size = sizeOfFilter3,activation = \"relu\"))\n",
    "    model.add(MaxPooling2D(pool_size = sizeOfPool ))\n",
    "    model.add(Dropout(rate = 0.5))\n",
    "\n",
    "    model.add(Flatten())\n",
    "    model.add(Dense(units = noOfNodes, activation = \"relu\"))\n",
    "    model.add(Dropout(rate = 0.5))\n",
    "    model.add(Dense(units = noOfclasses, activation = \"softmax\"))\n",
    "\n",
    "    model.compile(Adam(learning_rate = 0.001), loss = \"categorical_crossentropy\",metrics = [\"accuracy\"])\n",
    "    return model"
   ]
  },
  {
   "cell_type": "code",
   "execution_count": 17,
   "metadata": {
    "colab": {
     "base_uri": "https://localhost:8080/"
    },
    "executionInfo": {
     "elapsed": 1799,
     "status": "ok",
     "timestamp": 1644949059741,
     "user": {
      "displayName": "gokhan ersoz",
      "photoUrl": "https://lh3.googleusercontent.com/a/default-user=s64",
      "userId": "13455147674345597309"
     },
     "user_tz": -180
    },
    "id": "Rx11LLvrkWmP",
    "outputId": "75549b45-d941-4a36-a636-92a133cbfa56"
   },
   "outputs": [
    {
     "name": "stdout",
     "output_type": "stream",
     "text": [
      "Model: \"sequential\"\n",
      "_________________________________________________________________\n",
      " Layer (type)                Output Shape              Param #   \n",
      "=================================================================\n",
      " conv2d (Conv2D)             (None, 28, 28, 60)        1560      \n",
      "                                                                 \n",
      " conv2d_1 (Conv2D)           (None, 24, 24, 60)        90060     \n",
      "                                                                 \n",
      " max_pooling2d (MaxPooling2D  (None, 12, 12, 60)       0         \n",
      " )                                                               \n",
      "                                                                 \n",
      " conv2d_2 (Conv2D)           (None, 10, 10, 30)        16230     \n",
      "                                                                 \n",
      " conv2d_3 (Conv2D)           (None, 8, 8, 30)          8130      \n",
      "                                                                 \n",
      " max_pooling2d_1 (MaxPooling  (None, 4, 4, 30)         0         \n",
      " 2D)                                                             \n",
      "                                                                 \n",
      " dropout (Dropout)           (None, 4, 4, 30)          0         \n",
      "                                                                 \n",
      " flatten (Flatten)           (None, 480)               0         \n",
      "                                                                 \n",
      " dense (Dense)               (None, 500)               240500    \n",
      "                                                                 \n",
      " dropout_1 (Dropout)         (None, 500)               0         \n",
      "                                                                 \n",
      " dense_1 (Dense)             (None, 10)                5010      \n",
      "                                                                 \n",
      "=================================================================\n",
      "Total params: 361,490\n",
      "Trainable params: 361,490\n",
      "Non-trainable params: 0\n",
      "_________________________________________________________________\n"
     ]
    }
   ],
   "source": [
    "model = myModel()\n",
    "model.summary()"
   ]
  },
  {
   "cell_type": "code",
   "execution_count": 18,
   "metadata": {
    "colab": {
     "base_uri": "https://localhost:8080/"
    },
    "executionInfo": {
     "elapsed": 7,
     "status": "ok",
     "timestamp": 1644949059742,
     "user": {
      "displayName": "gokhan ersoz",
      "photoUrl": "https://lh3.googleusercontent.com/a/default-user=s64",
      "userId": "13455147674345597309"
     },
     "user_tz": -180
    },
    "id": "1Akx7a98kikL",
    "outputId": "b5ca5cf9-b939-4cc5-c24f-584f73859606"
   },
   "outputs": [
    {
     "data": {
      "text/plain": [
       "(50, 10, 100, 15)"
      ]
     },
     "execution_count": 18,
     "metadata": {},
     "output_type": "execute_result"
    }
   ],
   "source": [
    "batchSizeVal,noOfclasses,stepsPerEpochVal,epochsVal"
   ]
  },
  {
   "cell_type": "code",
   "execution_count": 19,
   "metadata": {
    "colab": {
     "base_uri": "https://localhost:8080/"
    },
    "executionInfo": {
     "elapsed": 4,
     "status": "ok",
     "timestamp": 1644949059742,
     "user": {
      "displayName": "gokhan ersoz",
      "photoUrl": "https://lh3.googleusercontent.com/a/default-user=s64",
      "userId": "13455147674345597309"
     },
     "user_tz": -180
    },
    "id": "TJ2g7wTqlmb3",
    "outputId": "aafa597b-8a66-4436-b599-aacf86dfaefa"
   },
   "outputs": [
    {
     "data": {
      "text/plain": [
       "0.64"
      ]
     },
     "execution_count": 19,
     "metadata": {},
     "output_type": "execute_result"
    }
   ],
   "source": [
    "# steps_per_epoch = n_samples / batch_size\n",
    "X_train.shape[1] / batchSizeVal"
   ]
  },
  {
   "cell_type": "code",
   "execution_count": 20,
   "metadata": {
    "colab": {
     "base_uri": "https://localhost:8080/"
    },
    "executionInfo": {
     "elapsed": 46446,
     "status": "ok",
     "timestamp": 1644949106185,
     "user": {
      "displayName": "gokhan ersoz",
      "photoUrl": "https://lh3.googleusercontent.com/a/default-user=s64",
      "userId": "13455147674345597309"
     },
     "user_tz": -180
    },
    "id": "MeQBivojkYnw",
    "outputId": "8fb0cbb4-144c-4a66-cf30-7d360e0e6909"
   },
   "outputs": [
    {
     "name": "stderr",
     "output_type": "stream",
     "text": [
      "/usr/local/lib/python3.7/dist-packages/ipykernel_launcher.py:5: UserWarning: `Model.fit_generator` is deprecated and will be removed in a future version. Please use `Model.fit`, which supports generators.\n",
      "  \"\"\"\n"
     ]
    },
    {
     "name": "stdout",
     "output_type": "stream",
     "text": [
      "Epoch 1/15\n",
      "100/100 [==============================] - 7s 27ms/step - loss: 1.5151 - accuracy: 0.4667 - val_loss: 0.2077 - val_accuracy: 0.9410\n",
      "Epoch 2/15\n",
      "100/100 [==============================] - 2s 21ms/step - loss: 0.5764 - accuracy: 0.8033 - val_loss: 0.1149 - val_accuracy: 0.9662\n",
      "Epoch 3/15\n",
      "100/100 [==============================] - 2s 23ms/step - loss: 0.3901 - accuracy: 0.8770 - val_loss: 0.0978 - val_accuracy: 0.9680\n",
      "Epoch 4/15\n",
      "100/100 [==============================] - 2s 21ms/step - loss: 0.3096 - accuracy: 0.9027 - val_loss: 0.0611 - val_accuracy: 0.9809\n",
      "Epoch 5/15\n",
      "100/100 [==============================] - 2s 21ms/step - loss: 0.2510 - accuracy: 0.9218 - val_loss: 0.0574 - val_accuracy: 0.9803\n",
      "Epoch 6/15\n",
      "100/100 [==============================] - 2s 22ms/step - loss: 0.1968 - accuracy: 0.9360 - val_loss: 0.0490 - val_accuracy: 0.9791\n",
      "Epoch 7/15\n",
      "100/100 [==============================] - 2s 21ms/step - loss: 0.1753 - accuracy: 0.9465 - val_loss: 0.0587 - val_accuracy: 0.9815\n",
      "Epoch 8/15\n",
      "100/100 [==============================] - 2s 21ms/step - loss: 0.1821 - accuracy: 0.9406 - val_loss: 0.0414 - val_accuracy: 0.9852\n",
      "Epoch 9/15\n",
      "100/100 [==============================] - 2s 22ms/step - loss: 0.1715 - accuracy: 0.9458 - val_loss: 0.0406 - val_accuracy: 0.9865\n",
      "Epoch 10/15\n",
      "100/100 [==============================] - 2s 21ms/step - loss: 0.1477 - accuracy: 0.9521 - val_loss: 0.0378 - val_accuracy: 0.9889\n",
      "Epoch 11/15\n",
      "100/100 [==============================] - 2s 21ms/step - loss: 0.1274 - accuracy: 0.9596 - val_loss: 0.0248 - val_accuracy: 0.9926\n",
      "Epoch 12/15\n",
      "100/100 [==============================] - 2s 22ms/step - loss: 0.1194 - accuracy: 0.9614 - val_loss: 0.0249 - val_accuracy: 0.9938\n",
      "Epoch 13/15\n",
      "100/100 [==============================] - 2s 22ms/step - loss: 0.1100 - accuracy: 0.9645 - val_loss: 0.0267 - val_accuracy: 0.9938\n",
      "Epoch 14/15\n",
      "100/100 [==============================] - 2s 21ms/step - loss: 0.1220 - accuracy: 0.9622 - val_loss: 0.0295 - val_accuracy: 0.9914\n",
      "Epoch 15/15\n",
      "100/100 [==============================] - 2s 23ms/step - loss: 0.0941 - accuracy: 0.9675 - val_loss: 0.0321 - val_accuracy: 0.9926\n"
     ]
    }
   ],
   "source": [
    "history = model.fit_generator(dataGen.flow(X_train,y_train,batch_size = batchSizeVal),\n",
    "                              steps_per_epoch = 100,\n",
    "                              epochs = epochsVal,\n",
    "                              validation_data = (X_validation,y_validation),\n",
    "                              shuffle = 1)"
   ]
  },
  {
   "cell_type": "code",
   "execution_count": 21,
   "metadata": {
    "colab": {
     "base_uri": "https://localhost:8080/",
     "height": 441
    },
    "executionInfo": {
     "elapsed": 518,
     "status": "ok",
     "timestamp": 1644949106699,
     "user": {
      "displayName": "gokhan ersoz",
      "photoUrl": "https://lh3.googleusercontent.com/a/default-user=s64",
      "userId": "13455147674345597309"
     },
     "user_tz": -180
    },
    "id": "I7QUeD3BlC2_",
    "outputId": "6731af60-81c7-41ef-a0c4-f0d700c85ff7"
   },
   "outputs": [
    {
     "data": {
      "image/png": "[encoded data removed]",
      "text/plain": [
       "<Figure size 864x432 with 2 Axes>"
      ]
     },
     "metadata": {
      "needs_background": "light"
     },
     "output_type": "display_data"
    }
   ],
   "source": [
    "plt.figure(figsize = (12,6))\n",
    "\n",
    "plt.subplot(1,2,1)\n",
    "plt.plot(history.history['loss'],label = \"Train\")\n",
    "plt.plot(history.history['val_loss'], label = \"Validation\")\n",
    "plt.legend(loc = \"best\")\n",
    "plt.title('Loss')\n",
    "plt.xlabel('Epochs')\n",
    "\n",
    "plt.subplot(1,2,2)\n",
    "plt.plot(history.history['accuracy'],label = \"Train\")\n",
    "plt.plot(history.history['val_accuracy'],label = \"Validation\")\n",
    "plt.legend(loc = \"best\")\n",
    "plt.title('Accuracy')\n",
    "plt.ylabel(\"Accuracy Score\")\n",
    "plt.xlabel('Epochs')\n",
    "\n",
    "plt.tight_layout()\n",
    "plt.show()"
   ]
  },
  {
   "cell_type": "code",
   "execution_count": 22,
   "metadata": {
    "colab": {
     "base_uri": "https://localhost:8080/"
    },
    "executionInfo": {
     "elapsed": 785,
     "status": "ok",
     "timestamp": 1644949178619,
     "user": {
      "displayName": "gokhan ersoz",
      "photoUrl": "https://lh3.googleusercontent.com/a/default-user=s64",
      "userId": "13455147674345597309"
     },
     "user_tz": -180
    },
    "id": "VRmir5iBnBV6",
    "outputId": "ec5b76f9-cf97-43be-ff2d-c416a7358596"
   },
   "outputs": [
    {
     "name": "stdout",
     "output_type": "stream",
     "text": [
      "Test Score =  0.029915127903223038\n",
      "Test Accuracy = 0.9916338324546814\n"
     ]
    }
   ],
   "source": [
    "score = model.evaluate(X_test,y_test,verbose = 0)\n",
    "print('Test Score = ',score[0])\n",
    "print('Test Accuracy =', score[1])"
   ]
  },
  {
   "cell_type": "code",
   "execution_count": 23,
   "metadata": {
    "colab": {
     "base_uri": "https://localhost:8080/"
    },
    "executionInfo": {
     "elapsed": 2041,
     "status": "ok",
     "timestamp": 1644949220557,
     "user": {
      "displayName": "gokhan ersoz",
      "photoUrl": "https://lh3.googleusercontent.com/a/default-user=s64",
      "userId": "13455147674345597309"
     },
     "user_tz": -180
    },
    "id": "NJuLhAy5nILt",
    "outputId": "21bcb0b0-a364-46f8-bae6-22fa0f3def4a"
   },
   "outputs": [
    {
     "name": "stdout",
     "output_type": "stream",
     "text": [
      "INFO:tensorflow:Assets written to: ram://82cd73ee-71c8-432d-9838-2e7e7c275127/assets\n"
     ]
    }
   ],
   "source": [
    "pickle_out = open(\"digits_model_trained.p\",\"wb\")\n",
    "pickle.dump(model,pickle_out)\n",
    "pickle_out.close()"
   ]
  },
  {
   "cell_type": "code",
   "execution_count": 25,
   "metadata": {
    "executionInfo": {
     "elapsed": 255,
     "status": "ok",
     "timestamp": 1644949264330,
     "user": {
      "displayName": "gokhan ersoz",
      "photoUrl": "https://lh3.googleusercontent.com/a/default-user=s64",
      "userId": "13455147674345597309"
     },
     "user_tz": -180
    },
    "id": "tx5fPfEQnSH0"
   },
   "outputs": [],
   "source": [
    "model.save(\"digits_model.h5\")\n",
    "model.save_weights(\"digits_model_weights.h5\")"
   ]
  },
  {
   "cell_type": "markdown",
   "metadata": {
    "id": "vMBHZyiRnxzD"
   },
   "source": [
    "---"
   ]
  },
  {
   "cell_type": "code",
   "execution_count": 4,
   "metadata": {
    "id": "K5yAzF8wnaF3"
   },
   "outputs": [],
   "source": [
    "imageDimensions = (32,32,3)\n",
    "noOfclasses = 10\n",
    "\n",
    "def myModel():\n",
    "\n",
    "    noOfFilters = 60\n",
    "    sizeOfFilter5 = (5,5)\n",
    "    sizeOfFilter3 = (3,3)\n",
    "    sizeOfPool = (2,2)\n",
    "    noOfNodes = 500\n",
    "\n",
    "    model = Sequential()\n",
    "    model.add(Conv2D(filters = noOfFilters, kernel_size = sizeOfFilter5,input_shape = (imageDimensions[0],imageDimensions[1],1),\n",
    "                     activation = \"relu\"))\n",
    "    model.add(Conv2D(filters = noOfFilters, kernel_size = sizeOfFilter5,activation = \"relu\"))\n",
    "    model.add(MaxPooling2D(pool_size = sizeOfPool ))\n",
    "    \n",
    "    model.add(Conv2D(filters = noOfFilters // 2, kernel_size = sizeOfFilter3,activation = \"relu\"))\n",
    "    model.add(Conv2D(filters = noOfFilters // 2, kernel_size = sizeOfFilter3,activation = \"relu\"))\n",
    "    model.add(MaxPooling2D(pool_size = sizeOfPool ))\n",
    "    model.add(Dropout(rate = 0.5))\n",
    "\n",
    "    model.add(Flatten())\n",
    "    model.add(Dense(units = noOfNodes, activation = \"relu\"))\n",
    "    model.add(Dropout(rate = 0.5))\n",
    "    model.add(Dense(units = noOfclasses, activation = \"softmax\"))\n",
    "\n",
    "    model.compile(Adam(learning_rate = 0.001), loss = \"categorical_crossentropy\",metrics = [\"accuracy\"])\n",
    "    return model"
   ]
  },
  {
   "cell_type": "code",
   "execution_count": 5,
   "metadata": {
    "id": "OTFhE8xioA7A"
   },
   "outputs": [],
   "source": [
    "new_model = myModel()\n",
    "new_model.load_weights(\"/Users/gokhanersoz/Desktop/Hepsi/OpenCV/PROJECTS/Resources/digits_model_weights.h5\")"
   ]
  },
  {
   "cell_type": "code",
   "execution_count": 12,
   "metadata": {},
   "outputs": [],
   "source": [
    "import numpy as np\n",
    "import cv2\n",
    "\n",
    "width = 640\n",
    "height = 480\n",
    "threshold = 0.65\n",
    "cameraNo = 0\n",
    "\n",
    "cap = cv2.VideoCapture(cameraNo)\n",
    "cap.set(3,width)\n",
    "cap.set(4,height)\n",
    "\n",
    "def preProcessing(img):\n",
    "    img = cv2.cvtColor(img,cv2.COLOR_BGR2GRAY)\n",
    "    img = cv2.equalizeHist(img)\n",
    "    img = img/255\n",
    "    return img\n",
    "\n",
    "while True:\n",
    "    \n",
    "    conn,imgOriginal = cap.read()\n",
    "    \n",
    "    img = np.asarray(imgOriginal)\n",
    "    img = cv2.resize(img,(32,32))\n",
    "    img = preProcessing(img)\n",
    "    img = img.reshape(1,32,32,1)\n",
    "    \n",
    "    predictions = new_model.predict(img)\n",
    "    classIndex = np.argmax(predictions)\n",
    "    probVal = np.amax(predictions)\n",
    "    probVal = np.round(probVal,3)\n",
    "    \n",
    "    if probVal > threshold:\n",
    "        \n",
    "        cv2.putText(imgOriginal,\"Results : \" + \" \" + str(classIndex),\n",
    "                   (50,50),cv2.FONT_HERSHEY_COMPLEX,1,(0,0,255),1)\n",
    "        \n",
    "        cv2.putText(imgOriginal,\"Probability : \" + \" \" + str(probVal*100) + \"%\",\n",
    "                   (50,100),cv2.FONT_HERSHEY_COMPLEX,1,(0,0,255),1)\n",
    "        \n",
    "    cv2.imshow(\"Results\",imgOriginal)\n",
    "    if cv2.waitKey(1) & 0xFF == ord(\"q\"):\n",
    "        break\n",
    "        \n",
    "cap.release()\n",
    "cv2.destroyAllWindows()"
   ]
  },
  {
   "cell_type": "code",
   "execution_count": null,
   "metadata": {},
   "outputs": [],
   "source": []
  }
 ],
 "metadata": {
  "accelerator": "GPU",
  "colab": {
   "authorship_tag": "ABX9TyPFVZ7mb0gh33DuCaGrWOs5",
   "collapsed_sections": [],
   "name": "04- Digits_Classification.ipynb",
   "provenance": []
  },
  "kernelspec": {
   "display_name": "Python 3",
   "language": "python",
   "name": "python3"
  },
  "language_info": {
   "codemirror_mode": {
    "name": "ipython",
    "version": 3
   },
   "file_extension": ".py",
   "mimetype": "text/x-python",
   "name": "python",
   "nbconvert_exporter": "python",
   "pygments_lexer": "ipython3",
   "version": "3.7.7"
  }
 },
 "nbformat": 4,
 "nbformat_minor": 1
}
