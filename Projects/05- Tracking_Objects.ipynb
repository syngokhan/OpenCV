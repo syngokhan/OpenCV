{
 "cells": [
  {
   "cell_type": "code",
   "execution_count": 7,
   "id": "shaped-methodology",
   "metadata": {},
   "outputs": [],
   "source": [
    "import cv2\n",
    "import numpy as np\n",
    "\n",
    "tracker = cv2.TrackerCSRT_create()\n",
    "\n",
    "cap = cv2.VideoCapture(0)\n",
    "\n",
    "con, frame = cap.read()\n",
    "bbox = cv2.selectROI(\"Tracking\",frame)\n",
    "tracker.init(frame,bbox)\n",
    "\n",
    "def drawBox(image,bbox):\n",
    "    \n",
    "    x, y, w, h = int(bbox[0]),int(bbox[1]),int(bbox[2]),int(bbox[3])\n",
    "    cv2.rectangle(image,(x,y),(x+w,y+h),(255,0,255),3,3)\n",
    "    cv2.putText(image,\"Tracking\", (100,75),cv2.FONT_HERSHEY_SIMPLEX,0.7,(0,255,0),2)\n",
    "    \n",
    "while True:\n",
    "    \n",
    "    timer = cv2.getTickCount()\n",
    "    \n",
    "    con, frame = cap.read()\n",
    "    \n",
    "    success,bbox = tracker.update(frame)\n",
    "    \n",
    "    if success:\n",
    "        drawBox(frame, bbox)\n",
    "    else:\n",
    "        cv2.putText(frame,\"Lost\", (100,75),cv2.FONT_HERSHEY_SIMPLEX,0.7,(0,0,255),2)\n",
    "        \n",
    "    cv2.rectangle(frame,(15,15),(200,90),(255,0,255),2)\n",
    "    cv2.putText(frame, \"Fps:\", (20, 40), cv2.FONT_HERSHEY_SIMPLEX, 0.7, (255,0,255), 2)\n",
    "    cv2.putText(frame, \"Status:\", (20, 75), cv2.FONT_HERSHEY_SIMPLEX, 0.7, (255, 0, 255), 2)\n",
    "    \n",
    "    fps = cv2.getTickFrequency() / (cv2.getTickCount() - timer)\n",
    "    \n",
    "    if fps > 60:\n",
    "        myColor = (20,230,20)\n",
    "    elif fps > 20:    \n",
    "        myColor = (230,20,20)      \n",
    "    else:\n",
    "        myColor = (20,20,230)\n",
    "        \n",
    "    cv2.putText(frame, str(int(fps)), (75, 40), cv2.FONT_HERSHEY_SIMPLEX, 0.7, myColor, 2)\n",
    "    \n",
    "    cv2.imshow(\"Tracking\",frame)\n",
    "    \n",
    "    if cv2.waitKey(1) & 0xFF == ord(\"q\"):\n",
    "        break\n",
    "\n",
    "cap.release()\n",
    "cv2.destroyAllWindows()"
   ]
  },
  {
   "cell_type": "code",
   "execution_count": null,
   "id": "premium-philadelphia",
   "metadata": {},
   "outputs": [],
   "source": []
  },
  {
   "cell_type": "code",
   "execution_count": null,
   "id": "linear-destiny",
   "metadata": {},
   "outputs": [],
   "source": []
  }
 ],
 "metadata": {
  "kernelspec": {
   "display_name": "Python 3",
   "language": "python",
   "name": "python3"
  },
  "language_info": {
   "codemirror_mode": {
    "name": "ipython",
    "version": 3
   },
   "file_extension": ".py",
   "mimetype": "text/x-python",
   "name": "python",
   "nbconvert_exporter": "python",
   "pygments_lexer": "ipython3",
   "version": "3.7.7"
  }
 },
 "nbformat": 4,
 "nbformat_minor": 5
}
